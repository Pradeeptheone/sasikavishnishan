{
  "cells": [
    {
      "cell_type": "markdown",
      "metadata": {
        "id": "view-in-github",
        "colab_type": "text"
      },
      "source": [
        "<a href=\"https://colab.research.google.com/github/Pradeeptheone/sasikavishnishan/blob/main/server.ipynb\" target=\"_parent\"><img src=\"https://colab.research.google.com/assets/colab-badge.svg\" alt=\"Open In Colab\"/></a>"
      ]
    },
    {
      "cell_type": "code",
      "execution_count": null,
      "metadata": {
        "id": "wjSP5lOyIoim"
      },
      "outputs": [],
      "source": [
        "import numpy as np\n",
        "import matplotlib.pyplot as plt\n",
        "import glob\n",
        "import cv2\n",
        "import os\n",
        "import matplotlib.image as mpimg\n",
        "import random\n",
        "from sklearn import preprocessing\n",
        "import tensorflow.keras as keras\n",
        "import tensorflow as tf\n",
        "from keras.preprocessing.image import ImageDataGenerator\n",
        "from tensorflow.keras.utils import to_categorical\n",
        "\n"
      ]
    },
    {
      "cell_type": "code",
      "execution_count": null,
      "metadata": {
        "id": "QDpkQAx8KB8d"
      },
      "outputs": [],
      "source": [
        "SIZE = 256\n",
        "SEED_TRAINING = 121\n",
        "SEED_TESTING = 197\n",
        "SEED_VALIDATION = 164\n",
        "CHANNELS = 3\n",
        "n_classes = 3\n",
        "EPOCHS = 50\n",
        "BATCH_SIZE = 16\n",
        "input_shape = (SIZE, SIZE, CHANNELS)"
      ]
    },
    {
      "cell_type": "code",
      "execution_count": null,
      "metadata": {
        "id": "xvtJ2lBrKdSr"
      },
      "outputs": [],
      "source": [
        "train_datagen = ImageDataGenerator(\n",
        "        rescale = 1./255,\n",
        "        rotation_range = 30,\n",
        "        shear_range = 0.2,\n",
        "        zoom_range = 0.2,\n",
        "        width_shift_range=0.05,\n",
        "        height_shift_range=0.05,\n",
        "        horizontal_flip = True,\n",
        "        fill_mode = 'nearest')"
      ]
    },
    {
      "cell_type": "code",
      "execution_count": null,
      "metadata": {
        "id": "qc_OZa-inCn1"
      },
      "outputs": [],
      "source": [
        "validation_datagen = ImageDataGenerator(rescale=1./255)\n",
        "test_datagen = ImageDataGenerator(rescale = 1./255)"
      ]
    },
    {
      "cell_type": "code",
      "execution_count": null,
      "metadata": {
        "colab": {
          "base_uri": "https://localhost:8080/"
        },
        "id": "FIewz8sknF8V",
        "outputId": "0e6cded5-1c84-42aa-c860-3d76e2dbd8b9"
      },
      "outputs": [
        {
          "name": "stdout",
          "output_type": "stream",
          "text": [
            "Found 2152 images belonging to 1 classes.\n"
          ]
        }
      ],
      "source": [
        "train_generator = train_datagen.flow_from_directory(\n",
        "        directory = '/content/drive/MyDrive/Untitled folder/train_datagen',  # this is the input directory\n",
        "        target_size = (256, 256),  # all images will be resized to 64x64\n",
        "        batch_size = BATCH_SIZE,\n",
        "        class_mode = 'categorical',\n",
        "        color_mode=\"rgb\")"
      ]
    },
    {
      "cell_type": "code",
      "execution_count": null,
      "metadata": {
        "colab": {
          "base_uri": "https://localhost:8080/"
        },
        "id": "VeVBUuwtnOX-",
        "outputId": "0d34a36d-d1ac-4c08-bdba-7d7d30089318"
      },
      "outputs": [
        {
          "name": "stdout",
          "output_type": "stream",
          "text": [
            "Found 2152 images belonging to 1 classes.\n"
          ]
        }
      ],
      "source": [
        "validation_generator = validation_datagen.flow_from_directory(\n",
        "        '/content/drive/MyDrive/Untitled folder/validation_datagen',\n",
        "        target_size = (256, 256),\n",
        "        batch_size = BATCH_SIZE,\n",
        "        class_mode='categorical',\n",
        "        color_mode=\"rgb\")"
      ]
    },
    {
      "cell_type": "code",
      "execution_count": null,
      "metadata": {
        "colab": {
          "base_uri": "https://localhost:8080/"
        },
        "id": "0-ZUlPTZZ0uQ",
        "outputId": "e43e33b9-8d4c-48e3-90e5-c993ebf1b75c"
      },
      "outputs": [
        {
          "name": "stdout",
          "output_type": "stream",
          "text": [
            "Found 2152 images belonging to 1 classes.\n"
          ]
        }
      ],
      "source": [
        "test_generator = test_datagen.flow_from_directory(\n",
        "        '/content/drive/MyDrive/Untitled folder/test_datagen',\n",
        "        target_size = (256, 256),\n",
        "        batch_size = BATCH_SIZE,\n",
        "        class_mode = 'categorical',\n",
        "        color_mode = \"rgb\"\n",
        ")"
      ]
    },
    {
      "cell_type": "code",
      "execution_count": null,
      "metadata": {
        "id": "NLe5fBs6bf5_"
      },
      "outputs": [],
      "source": [
        "model = keras.models.Sequential([\n",
        "        keras.layers.Conv2D(32, (3,3), activation = 'relu', input_shape = input_shape),\n",
        "        keras.layers.MaxPooling2D((2, 2)),\n",
        "        keras.layers.Dropout(0.5),\n",
        "        keras.layers.Conv2D(64, (3,3), activation = 'relu', padding = 'same'),\n",
        "        keras.layers.MaxPooling2D((2,2)),\n",
        "        keras.layers.Dropout(0.5),\n",
        "        keras.layers.Conv2D(64, (3,3), activation = 'relu', padding = 'same'),\n",
        "        keras.layers.MaxPooling2D((2,2)),\n",
        "        keras.layers.Conv2D(64, (3,3), activation = 'relu', padding = 'same'),\n",
        "        keras.layers.MaxPooling2D((2,2)),\n",
        "        keras.layers.Conv2D(64, (3,3), activation = 'relu', padding = 'same'),\n",
        "        keras.layers.MaxPooling2D((2,2)),\n",
        "        keras.layers.Conv2D(64, (3,3), activation = 'relu', padding = 'same'),\n",
        "        keras.layers.MaxPooling2D((2,2)),\n",
        "        keras.layers.Flatten(),\n",
        "        keras.layers.Dense(32, activation ='relu'),\n",
        "        keras.layers.Dense(n_classes, activation='softmax')\n",
        "    ])"
      ]
    },
    {
      "cell_type": "code",
      "execution_count": null,
      "metadata": {
        "colab": {
          "base_uri": "https://localhost:8080/"
        },
        "id": "qW9JVv--cKUZ",
        "outputId": "d75b126c-59d1-412c-b609-72fe59546c45"
      },
      "outputs": [
        {
          "name": "stdout",
          "output_type": "stream",
          "text": [
            "Model: \"sequential\"\n",
            "_________________________________________________________________\n",
            " Layer (type)                Output Shape              Param #   \n",
            "=================================================================\n",
            " conv2d (Conv2D)             (None, 254, 254, 32)      896       \n",
            "                                                                 \n",
            " max_pooling2d (MaxPooling2D  (None, 127, 127, 32)     0         \n",
            " )                                                               \n",
            "                                                                 \n",
            " dropout (Dropout)           (None, 127, 127, 32)      0         \n",
            "                                                                 \n",
            " conv2d_1 (Conv2D)           (None, 127, 127, 64)      18496     \n",
            "                                                                 \n",
            " max_pooling2d_1 (MaxPooling  (None, 63, 63, 64)       0         \n",
            " 2D)                                                             \n",
            "                                                                 \n",
            " dropout_1 (Dropout)         (None, 63, 63, 64)        0         \n",
            "                                                                 \n",
            " conv2d_2 (Conv2D)           (None, 63, 63, 64)        36928     \n",
            "                                                                 \n",
            " max_pooling2d_2 (MaxPooling  (None, 31, 31, 64)       0         \n",
            " 2D)                                                             \n",
            "                                                                 \n",
            " conv2d_3 (Conv2D)           (None, 31, 31, 64)        36928     \n",
            "                                                                 \n",
            " max_pooling2d_3 (MaxPooling  (None, 15, 15, 64)       0         \n",
            " 2D)                                                             \n",
            "                                                                 \n",
            " conv2d_4 (Conv2D)           (None, 15, 15, 64)        36928     \n",
            "                                                                 \n",
            " max_pooling2d_4 (MaxPooling  (None, 7, 7, 64)         0         \n",
            " 2D)                                                             \n",
            "                                                                 \n",
            " conv2d_5 (Conv2D)           (None, 7, 7, 64)          36928     \n",
            "                                                                 \n",
            " max_pooling2d_5 (MaxPooling  (None, 3, 3, 64)         0         \n",
            " 2D)                                                             \n",
            "                                                                 \n",
            " flatten (Flatten)           (None, 576)               0         \n",
            "                                                                 \n",
            " dense (Dense)               (None, 32)                18464     \n",
            "                                                                 \n",
            " dense_1 (Dense)             (None, 3)                 99        \n",
            "                                                                 \n",
            "=================================================================\n",
            "Total params: 185,667\n",
            "Trainable params: 185,667\n",
            "Non-trainable params: 0\n",
            "_________________________________________________________________\n"
          ]
        }
      ],
      "source": [
        "model.summary()\n",
        "\n"
      ]
    },
    {
      "cell_type": "code",
      "execution_count": null,
      "metadata": {
        "id": "2UF311mIdGEh"
      },
      "outputs": [],
      "source": [
        "model.compile(\n",
        "    optimizer = 'adam',\n",
        "    loss = tf.keras.losses.CategoricalCrossentropy(),\n",
        "    metrics  = ['accuracy']\n",
        "    )"
      ]
    },
    {
      "cell_type": "code",
      "execution_count": null,
      "metadata": {
        "colab": {
          "background_save": true,
          "base_uri": "https://localhost:8080/"
        },
        "id": "-SaLt-avdjpk",
        "outputId": "eabee710-2b45-4f7f-9076-cb691dc75b31"
      },
      "outputs": [
        {
          "name": "stderr",
          "output_type": "stream",
          "text": [
            "/usr/local/lib/python3.7/dist-packages/ipykernel_launcher.py:6: UserWarning: `Model.fit_generator` is deprecated and will be removed in a future version. Please use `Model.fit`, which supports generators.\n",
            "  \n"
          ]
        },
        {
          "name": "stdout",
          "output_type": "stream",
          "text": [
            "Epoch 1/50\n",
            "134/134 [==============================] - 1611s 12s/step - loss: 119235928064.0000 - accuracy: 0.4967 - val_loss: 1420584943616.0000 - val_accuracy: 0.2892\n",
            "Epoch 2/50\n",
            "134/134 [==============================] - 240s 2s/step - loss: 21356815056896.0000 - accuracy: 0.4302 - val_loss: 14527117656064.0000 - val_accuracy: 0.0000e+00\n",
            "Epoch 3/50\n",
            "134/134 [==============================] - 242s 2s/step - loss: 229577746022400.0000 - accuracy: 0.3230 - val_loss: 859801449922560.0000 - val_accuracy: 0.0000e+00\n",
            "Epoch 4/50\n",
            "134/134 [==============================] - 241s 2s/step - loss: 3340277402042368.0000 - accuracy: 0.3352 - val_loss: 2553029492473856.0000 - val_accuracy: 0.0000e+00\n",
            "Epoch 5/50\n",
            "134/134 [==============================] - 241s 2s/step - loss: 30827606655893504.0000 - accuracy: 0.3338 - val_loss: 46105606339166208.0000 - val_accuracy: 0.0000e+00\n",
            "Epoch 6/50\n",
            "134/134 [==============================] - 241s 2s/step - loss: nan - accuracy: 0.4883 - val_loss: nan - val_accuracy: 1.0000\n",
            "Epoch 7/50\n",
            "134/134 [==============================] - 242s 2s/step - loss: nan - accuracy: 1.0000 - val_loss: nan - val_accuracy: 1.0000\n",
            "Epoch 8/50\n",
            "134/134 [==============================] - 242s 2s/step - loss: nan - accuracy: 1.0000 - val_loss: nan - val_accuracy: 1.0000\n",
            "Epoch 9/50\n",
            "134/134 [==============================] - 241s 2s/step - loss: nan - accuracy: 1.0000 - val_loss: nan - val_accuracy: 1.0000\n",
            "Epoch 10/50\n",
            "134/134 [==============================] - 248s 2s/step - loss: nan - accuracy: 1.0000 - val_loss: nan - val_accuracy: 1.0000\n",
            "Epoch 11/50\n",
            "134/134 [==============================] - 251s 2s/step - loss: nan - accuracy: 1.0000 - val_loss: nan - val_accuracy: 1.0000\n",
            "Epoch 12/50\n",
            "134/134 [==============================] - 251s 2s/step - loss: nan - accuracy: 1.0000 - val_loss: nan - val_accuracy: 1.0000\n",
            "Epoch 13/50\n",
            "134/134 [==============================] - 251s 2s/step - loss: nan - accuracy: 1.0000 - val_loss: nan - val_accuracy: 1.0000\n",
            "Epoch 14/50\n",
            "134/134 [==============================] - 249s 2s/step - loss: nan - accuracy: 1.0000 - val_loss: nan - val_accuracy: 1.0000\n",
            "Epoch 15/50\n",
            "134/134 [==============================] - 248s 2s/step - loss: nan - accuracy: 1.0000 - val_loss: nan - val_accuracy: 1.0000\n",
            "Epoch 16/50\n",
            "134/134 [==============================] - 248s 2s/step - loss: nan - accuracy: 1.0000 - val_loss: nan - val_accuracy: 1.0000\n",
            "Epoch 17/50\n",
            "134/134 [==============================] - 248s 2s/step - loss: nan - accuracy: 1.0000 - val_loss: nan - val_accuracy: 1.0000\n",
            "Epoch 18/50\n",
            "134/134 [==============================] - 248s 2s/step - loss: nan - accuracy: 1.0000 - val_loss: nan - val_accuracy: 1.0000\n",
            "Epoch 19/50\n",
            "134/134 [==============================] - 248s 2s/step - loss: nan - accuracy: 1.0000 - val_loss: nan - val_accuracy: 1.0000\n",
            "Epoch 20/50\n",
            "134/134 [==============================] - 247s 2s/step - loss: nan - accuracy: 1.0000 - val_loss: nan - val_accuracy: 1.0000\n",
            "Epoch 21/50\n",
            "134/134 [==============================] - 246s 2s/step - loss: nan - accuracy: 1.0000 - val_loss: nan - val_accuracy: 1.0000\n",
            "Epoch 22/50\n",
            "134/134 [==============================] - 248s 2s/step - loss: nan - accuracy: 1.0000 - val_loss: nan - val_accuracy: 1.0000\n",
            "Epoch 23/50\n",
            "134/134 [==============================] - 247s 2s/step - loss: nan - accuracy: 1.0000 - val_loss: nan - val_accuracy: 1.0000\n",
            "Epoch 24/50\n",
            "134/134 [==============================] - 247s 2s/step - loss: nan - accuracy: 1.0000 - val_loss: nan - val_accuracy: 1.0000\n",
            "Epoch 25/50\n",
            "134/134 [==============================] - 251s 2s/step - loss: nan - accuracy: 1.0000 - val_loss: nan - val_accuracy: 1.0000\n",
            "Epoch 26/50\n",
            "134/134 [==============================] - 254s 2s/step - loss: nan - accuracy: 1.0000 - val_loss: nan - val_accuracy: 1.0000\n",
            "Epoch 27/50\n",
            "134/134 [==============================] - 255s 2s/step - loss: nan - accuracy: 1.0000 - val_loss: nan - val_accuracy: 1.0000\n",
            "Epoch 28/50\n",
            "134/134 [==============================] - 256s 2s/step - loss: nan - accuracy: 1.0000 - val_loss: nan - val_accuracy: 1.0000\n",
            "Epoch 29/50\n",
            "134/134 [==============================] - 254s 2s/step - loss: nan - accuracy: 1.0000 - val_loss: nan - val_accuracy: 1.0000\n",
            "Epoch 30/50\n",
            "134/134 [==============================] - 255s 2s/step - loss: nan - accuracy: 1.0000 - val_loss: nan - val_accuracy: 1.0000\n",
            "Epoch 31/50\n",
            "134/134 [==============================] - 256s 2s/step - loss: nan - accuracy: 1.0000 - val_loss: nan - val_accuracy: 1.0000\n",
            "Epoch 32/50\n",
            "134/134 [==============================] - 255s 2s/step - loss: nan - accuracy: 1.0000 - val_loss: nan - val_accuracy: 1.0000\n",
            "Epoch 33/50\n",
            "134/134 [==============================] - 257s 2s/step - loss: nan - accuracy: 1.0000 - val_loss: nan - val_accuracy: 1.0000\n",
            "Epoch 34/50\n",
            "134/134 [==============================] - 256s 2s/step - loss: nan - accuracy: 1.0000 - val_loss: nan - val_accuracy: 1.0000\n",
            "Epoch 35/50\n",
            "134/134 [==============================] - 256s 2s/step - loss: nan - accuracy: 1.0000 - val_loss: nan - val_accuracy: 1.0000\n",
            "Epoch 36/50\n",
            "134/134 [==============================] - 257s 2s/step - loss: nan - accuracy: 1.0000 - val_loss: nan - val_accuracy: 1.0000\n",
            "Epoch 37/50\n",
            "134/134 [==============================] - 257s 2s/step - loss: nan - accuracy: 1.0000 - val_loss: nan - val_accuracy: 1.0000\n",
            "Epoch 38/50\n",
            "134/134 [==============================] - 256s 2s/step - loss: nan - accuracy: 1.0000 - val_loss: nan - val_accuracy: 1.0000\n",
            "Epoch 39/50\n",
            "134/134 [==============================] - 257s 2s/step - loss: nan - accuracy: 1.0000 - val_loss: nan - val_accuracy: 1.0000\n",
            "Epoch 40/50\n",
            "134/134 [==============================] - 258s 2s/step - loss: nan - accuracy: 1.0000 - val_loss: nan - val_accuracy: 1.0000\n",
            "Epoch 41/50\n",
            "134/134 [==============================] - 257s 2s/step - loss: nan - accuracy: 1.0000 - val_loss: nan - val_accuracy: 1.0000\n",
            "Epoch 42/50\n",
            "134/134 [==============================] - 257s 2s/step - loss: nan - accuracy: 1.0000 - val_loss: nan - val_accuracy: 1.0000\n",
            "Epoch 43/50\n",
            "134/134 [==============================] - 256s 2s/step - loss: nan - accuracy: 1.0000 - val_loss: nan - val_accuracy: 1.0000\n",
            "Epoch 44/50\n",
            "134/134 [==============================] - 255s 2s/step - loss: nan - accuracy: 1.0000 - val_loss: nan - val_accuracy: 1.0000\n",
            "Epoch 45/50\n",
            "134/134 [==============================] - 256s 2s/step - loss: nan - accuracy: 1.0000 - val_loss: nan - val_accuracy: 1.0000\n",
            "Epoch 46/50\n",
            "134/134 [==============================] - 257s 2s/step - loss: nan - accuracy: 1.0000 - val_loss: nan - val_accuracy: 1.0000\n",
            "Epoch 47/50\n",
            "134/134 [==============================] - 257s 2s/step - loss: nan - accuracy: 1.0000 - val_loss: nan - val_accuracy: 1.0000\n",
            "Epoch 48/50\n",
            "134/134 [==============================] - 259s 2s/step - loss: nan - accuracy: 1.0000 - val_loss: nan - val_accuracy: 1.0000\n",
            "Epoch 49/50\n",
            "134/134 [==============================] - 256s 2s/step - loss: nan - accuracy: 1.0000 - val_loss: nan - val_accuracy: 1.0000\n",
            "Epoch 50/50\n",
            "134/134 [==============================] - 257s 2s/step - loss: nan - accuracy: 1.0000 - val_loss: nan - val_accuracy: 1.0000\n"
          ]
        },
        {
          "data": {
            "text/plain": [
              "3"
            ]
          },
          "execution_count": null,
          "metadata": {},
          "output_type": "execute_result"
        }
      ],
      "source": [
        "history = model.fit_generator(\n",
        "        train_generator,\n",
        "        steps_per_epoch = train_generator.n // train_generator.batch_size,    #The 2 slashes division return rounded integer\n",
        "        epochs = EPOCHS,\n",
        "        validation_data = validation_generator,\n",
        "        validation_steps = validation_generator.n // validation_generator.batch_size\n",
        "        )\n",
        "3\n",
        "        \n",
        "        \n",
        "        "
      ]
    },
    {
      "cell_type": "code",
      "execution_count": null,
      "metadata": {
        "colab": {
          "base_uri": "https://localhost:8080/"
        },
        "id": "CpTiTwA8f699",
        "outputId": "77b633f5-77d1-4360-e7cb-6769aad79548"
      },
      "outputs": [
        {
          "output_type": "stream",
          "name": "stderr",
          "text": [
            "/usr/local/lib/python3.7/dist-packages/ipykernel_launcher.py:1: UserWarning: `Model.evaluate_generator` is deprecated and will be removed in a future version. Please use `Model.evaluate`, which supports generators.\n",
            "  \"\"\"Entry point for launching an IPython kernel.\n"
          ]
        },
        {
          "output_type": "stream",
          "name": "stdout",
          "text": [
            "Test loss :  nan\n",
            "Test accuracy :  1.0\n"
          ]
        }
      ],
      "source": [
        "score = model.evaluate_generator(test_generator)\n",
        "print('Test loss : ', score[0])\n",
        "print('Test accuracy : ', score[1])"
      ]
    },
    {
      "cell_type": "code",
      "source": [
        "acc = history.history['accuracy']\n",
        "val_acc = history.history['val_accuracy']\n",
        "loss = history.history['loss']\n",
        "val_loss = history.history['val_loss']\n",
        "plt.figure(figsize=(8, 8))\n",
        "plt.subplot(1, 2, 1)\n",
        "plt.plot(range(EPOCHS), acc, label='Training Accuracy')\n",
        "plt.plot(range(EPOCHS), val_acc, label='Validation Accuracy')\n",
        "plt.legend(loc='lower right')\n",
        "plt.title('Training and Validation Accuracy')\n",
        "plt.subplot(1, 2, 2)\n",
        "plt.plot(range(EPOCHS), loss, label='Training Loss')\n",
        "plt.plot(range(EPOCHS), val_loss, label='Validation Loss')\n",
        "plt.legend(loc='upper right')\n",
        "plt.title('Training and Validation Loss')\n",
        "plt.show()"
      ],
      "metadata": {
        "colab": {
          "base_uri": "https://localhost:8080/",
          "height": 499
        },
        "id": "uBBtW9cVWoIM",
        "outputId": "e33149fd-69eb-49cb-efe6-e9fce38a0688"
      },
      "execution_count": null,
      "outputs": [
        {
          "output_type": "display_data",
          "data": {
            "text/plain": [
              "<Figure size 576x576 with 2 Axes>"
            ],
            "image/png": "[encoded data removed]"
          },
          "metadata": {
            "needs_background": "light"
          }
        }
      ]
    },
    {
      "cell_type": "code",
      "source": [
        "model.save('final_model.h5')"
      ],
      "metadata": {
        "id": "B3nSc3-RW4N6"
      },
      "execution_count": null,
      "outputs": []
    }
  ],
  "metadata": {
    "colab": {
      "name": "server.ipynb",
      "provenance": [],
      "collapsed_sections": [],
      "mount_file_id": "1pvWn4ExJqG2GLDn3AiC13FCLiN0FJPho",
      "authorship_tag": "ABX9TyNz7r+knCUyKpQHMJSAk9c/",
      "include_colab_link": true
    },
    "kernelspec": {
      "display_name": "Python 3",
      "name": "python3"
    },
    "language_info": {
      "name": "python"
    }
  },
  "nbformat": 4,
  "nbformat_minor": 0
}